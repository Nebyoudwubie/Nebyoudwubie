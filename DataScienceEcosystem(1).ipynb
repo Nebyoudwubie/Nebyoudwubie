{
  "metadata": {
    "kernelspec": {
      "name": "python",
      "display_name": "Python (Pyodide)",
      "language": "python"
    },
    "language_info": {
      "codemirror_mode": {
        "name": "python",
        "version": 3
      },
      "file_extension": ".py",
      "mimetype": "text/x-python",
      "name": "python",
      "nbconvert_exporter": "python",
      "pygments_lexer": "ipython3",
      "version": "3.8"
    }
  },
  "nbformat_minor": 4,
  "nbformat": 4,
  "cells": [
    {
      "cell_type": "code",
      "source": "Exercise 2: Create markdown cell with title of the notebook",
      "metadata": {
        "trusted": true
      },
      "outputs": [],
      "execution_count": null
    },
    {
      "cell_type": "markdown",
      "source": "# Data Science Tools and Ecosystem",
      "metadata": {}
    },
    {
      "cell_type": "code",
      "source": "Exercise 3 - Create a markdown cell for an introduction",
      "metadata": {
        "trusted": true
      },
      "outputs": [],
      "execution_count": null
    },
    {
      "cell_type": "markdown",
      "source": "In this notebook, Data Science Tools and Ecosystem are summarized.\nA data science ecosystem is a complex set of tools and technologies \nthat help businesses solve a multitude of problems. \nIt revolves around data science and Machine Learning,transforming \nthe future of organizations.\n",
      "metadata": {}
    },
    {
      "cell_type": "code",
      "source": "Exercise 4 - Create a markdown cell to list data science languages",
      "metadata": {
        "trusted": true
      },
      "outputs": [],
      "execution_count": null
    },
    {
      "cell_type": "markdown",
      "source": "Some of the popular languages that Data Scientists use are:\n1. python\n1. R\n1. SQL\n1. Java\n1. Java script\n1. Julia\n1. Scala",
      "metadata": {}
    },
    {
      "cell_type": "code",
      "source": "Exercise 5 - Create a markdown cell to list data science libraries",
      "metadata": {
        "trusted": true
      },
      "outputs": [],
      "execution_count": null
    },
    {
      "cell_type": "markdown",
      "source": "Some of the commonly used libraries used by Data Scientists include:\n1. crapy.\n1. BeautifulSoup.\n1. LightGBM.\n1. ELI5.\n1. Theano.\n1. NuPIC.\n1. Ramp.\n1. Pipenv.\n1. Bob.\n1. PyBrain.\n1. Caffe2.\n1. Chainer.\n1. TensorFlow.\n1. NumPy.\n1. SciPy.\n1. Pandas.\n1. Matplotlib.\n",
      "metadata": {}
    },
    {
      "cell_type": "code",
      "source": "Exercise 6 - Create a markdown cell with a table of Data Science tools",
      "metadata": {
        "trusted": true
      },
      "outputs": [],
      "execution_count": null
    },
    {
      "cell_type": "markdown",
      "source": "\n\n|Data science tools| \n| -----------------|\n| Julia            |\n| Jupyter Notebook |\n| R                | \n",
      "metadata": {}
    },
    {
      "cell_type": "code",
      "source": "Exercise 7 - Create a markdown cell introducing arithmetic expression examples",
      "metadata": {
        "trusted": true
      },
      "outputs": [],
      "execution_count": null
    },
    {
      "cell_type": "markdown",
      "source": "\n### Below are a few examples of evaluating arithmetic expressions in Python\n\nx = 2 + 3 * 4 - 5 / 2 ** 3\nresult = x\nprint(result)\n Output: 13.6875\n\na = 10\nb = 3\nc = a % b\nresult = c\nprint(result)\n Output: 1\n\nx = 2\ny = 5\nz = x ** y\nresult = z\nprint(result)\n Output: 32\n\n",
      "metadata": {}
    },
    {
      "cell_type": "code",
      "source": "Exercise 8 - Create a code cell to multiply and add numbers",
      "metadata": {
        "trusted": true
      },
      "outputs": [],
      "execution_count": null
    },
    {
      "cell_type": "markdown",
      "source": "This a simple arithmetic expression to mutiply then add integers",
      "metadata": {}
    },
    {
      "cell_type": "code",
      "source": "\n\nx=(3*4)+5\nprint(x)\n\n\n",
      "metadata": {
        "trusted": true
      },
      "outputs": [
        {
          "name": "stdout",
          "text": "17\n",
          "output_type": "stream"
        }
      ],
      "execution_count": 3
    },
    {
      "cell_type": "code",
      "source": "Exercise 9 - Create a code cell to convert minutes to hours",
      "metadata": {
        "trusted": true
      },
      "outputs": [],
      "execution_count": null
    },
    {
      "cell_type": "markdown",
      "source": "This will convert 200 minutes to hours by diving by 60",
      "metadata": {}
    },
    {
      "cell_type": "code",
      "source": "Minutes=200\nHour=Minutes/60\nprint(Hour)",
      "metadata": {
        "trusted": true
      },
      "outputs": [
        {
          "name": "stdout",
          "text": "3.3333333333333335\n",
          "output_type": "stream"
        }
      ],
      "execution_count": 1
    },
    {
      "cell_type": "code",
      "source": "Exercise 10 -Insert a markdown cell to list Objectives.",
      "metadata": {
        "trusted": true
      },
      "outputs": [],
      "execution_count": null
    },
    {
      "cell_type": "markdown",
      "source": "**Objectives :** \n\n- List popular languages for Data Science\n- List commonly used libraries used by Data Scientists.\n- List datascience tools.",
      "metadata": {}
    },
    {
      "cell_type": "code",
      "source": "Exercise 11 - Create a markdown cell to indicate the Author's name",
      "metadata": {
        "trusted": true
      },
      "outputs": [],
      "execution_count": null
    },
    {
      "cell_type": "markdown",
      "source": "## Author\nName - Nebyou Dessalegn",
      "metadata": {}
    },
    {
      "cell_type": "code",
      "source": "",
      "metadata": {
        "trusted": true
      },
      "outputs": [],
      "execution_count": null
    }
  ]
}